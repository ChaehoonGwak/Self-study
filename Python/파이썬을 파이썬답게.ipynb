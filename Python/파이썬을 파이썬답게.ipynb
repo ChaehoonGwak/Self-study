{
 "cells": [
  {
   "cell_type": "markdown",
   "id": "e8d6f70f-7031-4beb-9bfa-789f125602a1",
   "metadata": {},
   "source": [
    "# 파이썬을 파이썬답게"
   ]
  },
  {
   "cell_type": "raw",
   "id": "35d0303d-414c-4506-8a57-e9617c7deeba",
   "metadata": {},
   "source": [
    "정수를 담은 이차원 리스트, mylist 가 solution 함수의 파라미터로 주어집니다. mylist에 들은 각 원소의 길이를 담은 리스트를 리턴하도록 solution 함수를 작성해주세요.\n",
    "\n",
    "제한 조건\n",
    "mylist의 길이는 100 이하인 자연수입니다.\n",
    "mylist 각 원소의 길이는 100 이하인 자연수입니다."
   ]
  },
  {
   "cell_type": "code",
   "execution_count": 22,
   "id": "0cdf0983-a619-454b-848e-402f5e26b94f",
   "metadata": {},
   "outputs": [],
   "source": [
    "def solution(mylist):\n",
    "    answer = []\n",
    "    for i in mylist:\n",
    "        answer.append(len(i))\n",
    "    return answer"
   ]
  },
  {
   "cell_type": "code",
   "execution_count": 23,
   "id": "fa80250b-9ae9-46bd-9812-459135ad8d52",
   "metadata": {},
   "outputs": [],
   "source": [
    "def solution(mylist):\n",
    "    return list(map(len, mylist))"
   ]
  },
  {
   "cell_type": "raw",
   "id": "76190306-348d-4ab4-b195-429781d4490e",
   "metadata": {},
   "source": [
    "iterable: 자신의 멤버를 한 번에 하나씩 리턴할 수 있는 객체입니다. list, str, tuple, dict 등이 여기에 속합니다.\n",
    "sequence: int 타입 인덱스를 통해, 원소에 접근할 수 있는 iterable 입니다. iterable의 하위 카테고리라고 생각하시면 됩니다. \n",
    "list, str, tuple이 여기 속합니다. ( dictionary는 다양한 타입을 통해 원소에 접근할 수 있기 때문에 sequence에 속하지 않습니다."
   ]
  },
  {
   "cell_type": "code",
   "execution_count": null,
   "id": "ea8f013f-37f0-485e-8431-752978c10546",
   "metadata": {},
   "outputs": [],
   "source": []
  },
  {
   "cell_type": "markdown",
   "id": "d2a9ce78-6e33-49f0-9664-dca85b43681c",
   "metadata": {},
   "source": [
    "# 몫과 나머지"
   ]
  },
  {
   "cell_type": "raw",
   "id": "84b333b1-d4f3-4d0f-b53a-16bb9d17c868",
   "metadata": {},
   "source": [
    "문제 설명\n",
    "숫자 a, b가 주어졌을 때 a를 b로 나눈 몫과 a를 b로 나눈 나머지를 공백으로 구분해 출력해보세요.\n",
    "\n",
    "입력 설명\n",
    "입력으로는 공백으로 구분된 숫자가 두 개 주어집니다.\n",
    "첫 번째 숫자는 a를 나타내며, 두 번째 숫자는 b를 나타냅니다.\n",
    "\n",
    "출력 설명\n",
    "a를 b로 나눈 몫과 a를 b로 나눈 나머지를 공백으로 구분해 출력하세요.\n",
    "\n",
    "제한 조건\n",
    "a와 b는 자연수입니다"
   ]
  },
  {
   "cell_type": "code",
   "execution_count": 26,
   "id": "99d4f13e-d415-4ee4-9c9d-0c56c0965e75",
   "metadata": {},
   "outputs": [
    {
     "name": "stdin",
     "output_type": "stream",
     "text": [
      " 5 3\n"
     ]
    },
    {
     "name": "stdout",
     "output_type": "stream",
     "text": [
      "1 2\n"
     ]
    }
   ],
   "source": [
    "a, b = map(int, input().strip().split(' '))\n",
    "print(a//b, a%b)"
   ]
  },
  {
   "cell_type": "code",
   "execution_count": 27,
   "id": "252a0718-2d68-4ec6-9604-ca2b2fb738bc",
   "metadata": {},
   "outputs": [
    {
     "name": "stdout",
     "output_type": "stream",
     "text": [
      "1 2\n"
     ]
    }
   ],
   "source": [
    "a = 7\n",
    "b = 5\n",
    "print(*divmod(a, b))"
   ]
  },
  {
   "cell_type": "raw",
   "id": "f89fbdec-852c-4916-a49d-8bc23b3b47eb",
   "metadata": {},
   "source": [
    "가독성이나, 팀의 코드 스타일에 따라서, a//b, a%b와 같이 쓸 때가 더 좋을 수도 있습니다.\n",
    "또한, divmod는 작은 숫자를 다룰 때는 a//b, a%b 보다 느립니다. 대신, 큰 숫자를 다룰 때는 전자가 후자보다 더 빠르지요."
   ]
  },
  {
   "cell_type": "code",
   "execution_count": null,
   "id": "3e9b5fce-7bed-49aa-9e41-1362174a412f",
   "metadata": {},
   "outputs": [],
   "source": []
  },
  {
   "cell_type": "markdown",
   "id": "67b4caf3-ea38-46d5-9be8-3cca1e1cd04b",
   "metadata": {},
   "source": [
    "# n진법으로 표기된 string을 10진법 숫자로 변환하기"
   ]
  },
  {
   "cell_type": "raw",
   "id": "28d3e1c1-f8d0-4d3b-b14f-ac824de173c1",
   "metadata": {},
   "source": [
    "\n",
    "문제 설명\n",
    "base 진법으로 표기된 숫자를 10진법 숫자 출력해보세요.\n",
    "\n",
    "입력 설명\n",
    "입력으로는 공백으로 구분된 숫자가 두 개 주어집니다.\n",
    "첫 번째 숫자는 num을 나타내며, 두 번째 숫자는 base를 나타냅니다.\n",
    "\n",
    "출력 설명\n",
    "base 진법으로 표기된 num을 10진법 숫자로 출력해보세요.\n",
    "\n",
    "제한 조건\n",
    "base는 10 이하인 자연수입니다.\n",
    "num은 3000 이하인 자연수입니다."
   ]
  },
  {
   "cell_type": "code",
   "execution_count": null,
   "id": "b6f1852d-c00b-4809-85ef-9e1a50ca0bbc",
   "metadata": {},
   "outputs": [],
   "source": []
  },
  {
   "cell_type": "code",
   "execution_count": 29,
   "id": "86fe652c-9ea5-43bb-ade0-b22b9035a79b",
   "metadata": {},
   "outputs": [
    {
     "name": "stdin",
     "output_type": "stream",
     "text": [
      " 1 3\n"
     ]
    },
    {
     "name": "stdout",
     "output_type": "stream",
     "text": [
      "1\n"
     ]
    }
   ],
   "source": [
    "num, base = map(int, input().strip().split(' '))\n",
    "\n",
    "res = 0\n",
    "n = str(num)\n",
    "b = 1\n",
    "\n",
    "for i in n[::-1]:\n",
    "    res += int(i)*b\n",
    "    b *= base\n",
    "\n",
    "print(res)"
   ]
  },
  {
   "cell_type": "code",
   "execution_count": 30,
   "id": "e1a0a5a3-0612-40e4-838c-d2cee65d7f86",
   "metadata": {},
   "outputs": [
    {
     "name": "stdout",
     "output_type": "stream",
     "text": [
      "432\n"
     ]
    }
   ],
   "source": [
    "num = '3212'\n",
    "base = 5\n",
    "answer = int(num, base)\n",
    "print(answer)"
   ]
  },
  {
   "cell_type": "code",
   "execution_count": null,
   "id": "b4c94a14-14b8-49ac-8d56-dee66acc8168",
   "metadata": {},
   "outputs": [],
   "source": []
  },
  {
   "cell_type": "markdown",
   "id": "39b403ed-3c1f-407b-9956-ab15d6a3191d",
   "metadata": {},
   "source": [
    "# 문자열 정렬하기"
   ]
  },
  {
   "cell_type": "raw",
   "id": "62ae19e1-292c-497d-bc28-cef1036141c1",
   "metadata": {},
   "source": [
    "문제 설명\n",
    "문자열 s와 자연수 n이 입력으로 주어집니다. 문자열 s를 좌측 / 가운데 / 우측 정렬한 길이 n인 문자열을 한 줄씩 프린트해보세요.\n",
    "\n",
    "제한조건\n",
    "s의 길이는 n보다 작습니다.\n",
    "(n - s의 길이)는 짝수입니다.\n",
    "s는 알파벳과 숫자로만 이루어져 있으며, 공백 문자가 포함되어있지 않습니다."
   ]
  },
  {
   "cell_type": "code",
   "execution_count": 31,
   "id": "e112fee0-a41a-450a-8c37-92f9855dd743",
   "metadata": {},
   "outputs": [
    {
     "name": "stdin",
     "output_type": "stream",
     "text": [
      " abc 7\n"
     ]
    },
    {
     "name": "stdout",
     "output_type": "stream",
     "text": [
      "abc\n",
      "  abc    \n",
      "    abc\n"
     ]
    }
   ],
   "source": [
    "s, n = input().strip().split(' ')\n",
    "n = int(n)\n",
    "\n",
    "slen = len(s)\n",
    "\n",
    "print(s)\n",
    "\n",
    "mid_s = ''\n",
    "for i in range(n):\n",
    "    if i < (n-slen)/2:\n",
    "        mid_s += ' '\n",
    "    elif i == (n-slen)/2:\n",
    "        mid_s += s\n",
    "    else: mid_s += ' '\n",
    "\n",
    "print(mid_s)\n",
    "\n",
    "last_s = ''\n",
    "for i in range(n):\n",
    "    if i < n-slen:\n",
    "        last_s += ' '\n",
    "    else: last_s += s; break\n",
    "\n",
    "print(last_s)"
   ]
  },
  {
   "cell_type": "code",
   "execution_count": 32,
   "id": "a36579ef-1661-4101-8096-c8444c7b33ef",
   "metadata": {},
   "outputs": [
    {
     "data": {
      "text/plain": [
       "'   가나다라'"
      ]
     },
     "execution_count": 32,
     "metadata": {},
     "output_type": "execute_result"
    }
   ],
   "source": [
    "s = '가나다라'\n",
    "n = 7\n",
    "\n",
    "s.ljust(n) # 좌측 정렬\n",
    "s.center(n) # 가운데 정렬\n",
    "s.rjust(n) # 우측 정렬"
   ]
  },
  {
   "cell_type": "code",
   "execution_count": null,
   "id": "4a642f50-a4d2-49a9-b559-0b37460935a4",
   "metadata": {},
   "outputs": [],
   "source": []
  },
  {
   "cell_type": "markdown",
   "id": "9ef753fa-bfe1-45e1-9de2-562cfc7bd6f1",
   "metadata": {},
   "source": [
    "# 알파벳 출력하기"
   ]
  },
  {
   "cell_type": "raw",
   "id": "d43ed42c-d4f0-4c88-b967-38d6b7b1731d",
   "metadata": {},
   "source": [
    "문제 설명\n",
    "입력으로 0이 주어지면 영문 소문자 알파벳을, 입력으로 1이 주어지면 영문 대문자 알파벳을 사전 순으로 출력하는 코드를 짜세요."
   ]
  },
  {
   "cell_type": "code",
   "execution_count": 2,
   "id": "5547d5f5-404e-4fb6-ad1c-5d83dd7d026f",
   "metadata": {},
   "outputs": [
    {
     "name": "stdin",
     "output_type": "stream",
     "text": [
      " 0\n"
     ]
    },
    {
     "name": "stdout",
     "output_type": "stream",
     "text": [
      "abcdefghijklmnopqrstuvwxyz"
     ]
    }
   ],
   "source": [
    "num = int(input().strip())\n",
    "\n",
    "if num == 0:\n",
    "    for i in range(97, 123):\n",
    "        print(chr(i), end='')\n",
    "\n",
    "if num == 1:\n",
    "    for i in range(65, 91):\n",
    "        print(chr(i), end='')"
   ]
  },
  {
   "cell_type": "code",
   "execution_count": 3,
   "id": "b451584c-9a88-4477-99c5-c1d02037cdf3",
   "metadata": {},
   "outputs": [
    {
     "data": {
      "text/plain": [
       "'0123456789'"
      ]
     },
     "execution_count": 3,
     "metadata": {},
     "output_type": "execute_result"
    }
   ],
   "source": [
    "import string \n",
    "\n",
    "string.ascii_lowercase # 소문자 abcdefghijklmnopqrstuvwxyz\n",
    "string.ascii_uppercase # 대문자 ABCDEFGHIJKLMNOPQRSTUVWXYZ\n",
    "string.ascii_letters # 대소문자 모두 abcdefghijklmnopqrstuvwxyzABCDEFGHIJKLMNOPQRSTUVWXYZ\n",
    "string.digits # 숫자 0123456789"
   ]
  },
  {
   "cell_type": "code",
   "execution_count": null,
   "id": "54861a4d-d5fd-4759-be6c-5f0a1a2acd1b",
   "metadata": {},
   "outputs": [],
   "source": []
  },
  {
   "cell_type": "markdown",
   "id": "1f0b9d59-e44d-47ac-a55a-ba5d2527a37b",
   "metadata": {},
   "source": [
    "# 원본을 유지한채, 정렬된 리스트 구하기 - sorted"
   ]
  },
  {
   "cell_type": "code",
   "execution_count": 4,
   "id": "74624b31-b904-47e5-96c0-96c4b659666c",
   "metadata": {},
   "outputs": [],
   "source": [
    "list1 = [3, 2, 1]\n",
    "list2 = [i for i in list1] # 또는 copy.deepcopy를 사용\n",
    "list2.sort()"
   ]
  },
  {
   "cell_type": "code",
   "execution_count": 5,
   "id": "d1b548d5-3cd6-467f-a126-11403cf5433c",
   "metadata": {},
   "outputs": [],
   "source": [
    "list1 = [3, 2, 1]\n",
    "list2 = sorted(list1)"
   ]
  },
  {
   "cell_type": "code",
   "execution_count": null,
   "id": "c416f165-348a-42fe-9e9a-ac9c4f74045d",
   "metadata": {},
   "outputs": [],
   "source": []
  },
  {
   "cell_type": "markdown",
   "id": "7420727e-ed6b-46a7-abef-a913a906bb2b",
   "metadata": {},
   "source": [
    "# 2차원 리스트 뒤집기"
   ]
  },
  {
   "cell_type": "raw",
   "id": "b8d1e91a-9e80-40b5-9c43-3d0c2112073a",
   "metadata": {},
   "source": [
    "문제 설명\n",
    "다음을 만족하는 함수, solution을 완성해주세요.\n",
    "\n",
    "solution 함수는 이차원 리스트, mylist를 인자로 받습니다\n",
    "solution 함수는 mylist 원소의 행과 열을 뒤집은 한 값을 리턴해야합니다.\n",
    "예를 들어 mylist [[1, 2, 3], [4, 5, 6], [7, 8, 9]]가 주어진 경우, solution 함수는 [[1, 4, 7], [2, 5, 8], [3, 6, 9]] 을 리턴하면 됩니다.\n",
    "\n",
    "제한 조건\n",
    "mylist의 원소의 길이는 모두 같습니다.\n",
    "mylist의 길이는 mylist[0]의 길이와 같습니다.\n",
    "각 리스트의 길이는 100 이하인 자연수입니다."
   ]
  },
  {
   "cell_type": "code",
   "execution_count": 9,
   "id": "3d989c8e-23e3-413c-85b1-85b23fdfaeae",
   "metadata": {},
   "outputs": [],
   "source": [
    "def solution(mylist):\n",
    "    answer = []\n",
    "    \n",
    "    for i in range(len(mylist)):\n",
    "        lst = []\n",
    "        for j in range(len(mylist)):\n",
    "            lst.append(mylist[j][i])\n",
    "        answer.append(lst)\n",
    "        \n",
    "    return answer"
   ]
  },
  {
   "cell_type": "code",
   "execution_count": 10,
   "id": "a35a0fc3-460e-4b86-af27-30fd4f2bf502",
   "metadata": {},
   "outputs": [],
   "source": [
    "mylist = [[1, 2, 3], [4, 5, 6], [7, 8, 9]]\n",
    "new_list = list(map(list, zip(*mylist)))"
   ]
  },
  {
   "cell_type": "code",
   "execution_count": 19,
   "id": "ab2ee065-16b0-4627-8c23-fbca9026d2f6",
   "metadata": {
    "tags": []
   },
   "outputs": [
    {
     "name": "stdout",
     "output_type": "stream",
     "text": [
      "(1, 40)\n",
      "(2, 50)\n",
      "(3, 60)\n"
     ]
    },
    {
     "data": {
      "text/plain": [
       "(3, 60)"
      ]
     },
     "execution_count": 19,
     "metadata": {},
     "output_type": "execute_result"
    }
   ],
   "source": [
    "mylist = [1, 2, 3]\n",
    "new_list = [40, 50, 60]\n",
    "for i in zip(mylist, new_list):\n",
    "    print (i)\n",
    "\n",
    "(1, 40)\n",
    "(2, 50)\n",
    "(3, 60)"
   ]
  },
  {
   "cell_type": "code",
   "execution_count": 20,
   "id": "21dd4c4a-c6c7-4fbf-96e1-281478fbeaa2",
   "metadata": {},
   "outputs": [],
   "source": [
    "animals = ['cat', 'dog', 'lion']\n",
    "sounds = ['meow', 'woof', 'roar']\n",
    "answer = dict(zip(animals, sounds)) # {'cat': 'meow', 'dog': 'woof', 'lion': 'roar'}"
   ]
  },
  {
   "cell_type": "code",
   "execution_count": null,
   "id": "5600f244-2566-48aa-a57b-5692c1a6f18b",
   "metadata": {},
   "outputs": [],
   "source": []
  },
  {
   "cell_type": "markdown",
   "id": "4e8209cc-5471-4da6-a2a6-9f197a2828b8",
   "metadata": {},
   "source": [
    "# i번째 원소와 i+1번째 원소"
   ]
  },
  {
   "cell_type": "raw",
   "id": "9e6cff8a-eac1-4872-afd1-78ced4f23c27",
   "metadata": {},
   "source": [
    "문제 설명\n",
    "숫자를 담은 리스트 mylist가 solution 함수의 파라미터로 주어집니다. solution 함수가 mylist의 i번째 원소와 i+1번째 원소의 차를 담은 일차원 리스트에 차례로 담아 리턴하도록 코드를 작성해주세요.\n",
    "\n",
    "단, 마지막에 있는 원소는 (마지막+1)번째의 원소와의 차를 구할 수 없으니, 이 값은 구하지 않습니다.\n",
    "\n",
    "제한 조건\n",
    "mylist의 길이는 1 이상 100 이하인 자연수입니다.\n",
    "mylist의 원소는 1 이상 100 이하인 자연수입니다"
   ]
  },
  {
   "cell_type": "code",
   "execution_count": 21,
   "id": "cd1bdc31-9331-4476-b585-5f5854690e87",
   "metadata": {},
   "outputs": [],
   "source": [
    "def solution(mylist):\n",
    "    answer = []\n",
    "\n",
    "    for i in range(len(mylist)-1):\n",
    "        answer.append(abs(mylist[i] - mylist[i+1]))\n",
    "        \n",
    "    return answer"
   ]
  },
  {
   "cell_type": "code",
   "execution_count": 22,
   "id": "b06b9b84-5932-473b-a404-4d05f2cb779d",
   "metadata": {},
   "outputs": [],
   "source": [
    "def solution(mylist):\n",
    "    answer = []\n",
    "    for number1, number2 in zip(mylist, mylist[1:]):\n",
    "        answer.append(abs(number1 - number2))\n",
    "    return answer"
   ]
  },
  {
   "cell_type": "raw",
   "id": "1276899a-192a-42b6-8bd0-387b306370f7",
   "metadata": {},
   "source": [
    "# zip 함수에 서로 길이가 다른 리스트가 인자로 들어오는 경우에는 길이가 짧은 쪽 까지만 이터레이션이 이루어집니다. 더 자세한 내용은 공식 레퍼런스 - zip의 내용을 참고해주세요."
   ]
  },
  {
   "cell_type": "code",
   "execution_count": null,
   "id": "1ae0c94d-3191-4a03-ace9-8c9c2d8bd592",
   "metadata": {},
   "outputs": [],
   "source": []
  },
  {
   "cell_type": "markdown",
   "id": "7bf3bb3a-56b7-42f3-b06f-5b2df62b4b10",
   "metadata": {},
   "source": [
    "# 모든 멤버의 type 변환하기"
   ]
  },
  {
   "cell_type": "raw",
   "id": "e4730fe8-8fe7-4f6f-87e0-2419d8154b7a",
   "metadata": {},
   "source": [
    "문제 설명\n",
    "문자열 리스트 mylist를 입력받아, 이 리스트를 정수형 리스트로 바꾼 값을 리턴하는 함수, solution을 만들어주세요. 예를 들어 mylist가 ['1', '100', '33'] 인 경우, solution 함수는 [1, 100, 33] 을 리턴하면 됩니다.\n",
    "\n",
    "제한조건\n",
    "mylist의 길이는 100 이하인 자연수입니다.\n",
    "mylist의 원소는 10진수 숫자로 표현할 수 있는 문자열입니다. 즉, 'as2' 와 같은 문자열은 들어있지 않습니다."
   ]
  },
  {
   "cell_type": "code",
   "execution_count": 24,
   "id": "23141633-84c4-4b0e-aeae-d479b5558962",
   "metadata": {},
   "outputs": [],
   "source": [
    "def solution(mylist):\n",
    "    answer = []\n",
    "    answer = list(map(int, mylist))\n",
    "    return answer"
   ]
  },
  {
   "cell_type": "code",
   "execution_count": 25,
   "id": "ebcaecfc-5f9b-4047-92f9-a2d183bfe5a5",
   "metadata": {},
   "outputs": [],
   "source": [
    "list1 = ['1', '100', '33']\n",
    "list2 = list(map(int, list1))"
   ]
  },
  {
   "cell_type": "code",
   "execution_count": null,
   "id": "1d08d370-4ddb-421d-b56d-6b06fbb79559",
   "metadata": {},
   "outputs": [],
   "source": []
  },
  {
   "cell_type": "markdown",
   "id": "bcf3742d-b516-4fab-b24a-9c25b3d7dc85",
   "metadata": {},
   "source": [
    "# map 함수 응용하기"
   ]
  },
  {
   "cell_type": "raw",
   "id": "faecf226-7e89-429e-acf5-d7b9925664cd",
   "metadata": {},
   "source": [
    "문제 설명\n",
    "정수를 담은 이차원 리스트, mylist 가 solution 함수의 파라미터로 주어집니다. solution 함수가 mylist 각 원소의 길이를 담은 리스트를 리턴하도록 빈칸을 완성해보세요.\n",
    "\n",
    "hint) 이전 강의에서 배운 map 함수를 활용해보세요\n",
    "\n",
    "제한 조건\n",
    "mylist의 길이는 100 이하인 자연수입니다.\n",
    "mylist 각 원소의 길이는 100 이하인 자연수입니다."
   ]
  },
  {
   "cell_type": "code",
   "execution_count": 27,
   "id": "075a41a9-7acb-49c3-901a-a084d326d603",
   "metadata": {},
   "outputs": [],
   "source": [
    "def solution(mylist):\n",
    "    answer = list(map(len, mylist))\n",
    "    return answer"
   ]
  },
  {
   "cell_type": "code",
   "execution_count": null,
   "id": "0f06a451-278b-4c5c-832d-db98d1e3807f",
   "metadata": {},
   "outputs": [],
   "source": []
  },
  {
   "cell_type": "markdown",
   "id": "3aba83a3-b4a1-4c4b-bf70-f46850bae2ce",
   "metadata": {},
   "source": [
    "# sequence 멤버를 하나로 이어붙이기"
   ]
  },
  {
   "cell_type": "raw",
   "id": "bff5e41d-5f59-495e-99b8-5a00662a91dc",
   "metadata": {},
   "source": [
    "문제 설명\n",
    "문자열 리스트 mylist를 입력받아, 이 리스트의 원소를 모두 이어붙인 문자열을 리턴하는 함수, solution을 만들어주세요. 예를 들어 mylist가 ['1', '100', '33'] 인 경우, solution 함수는 '110033'을 리턴하면 됩니다.\n",
    "\n",
    "제한 조건\n",
    "mylist의 길이는 100 이하인 자연수입니다.\n",
    "mylist의 원소의 길이는 100 이하인 자연수입니다."
   ]
  },
  {
   "cell_type": "code",
   "execution_count": 28,
   "id": "0d8b1fd0-ccf8-4dd7-9939-f2ecd8fd7a36",
   "metadata": {},
   "outputs": [],
   "source": [
    "def solution(mylist):\n",
    "    answer = ''\n",
    "    answer = ''.join(mylist)\n",
    "    return answer"
   ]
  },
  {
   "cell_type": "code",
   "execution_count": 29,
   "id": "fd0b7bff-8c4a-4484-9dd5-a34cfda753a5",
   "metadata": {},
   "outputs": [],
   "source": [
    "# 다른 언어에서는..(또는 이 기능을 모르시는 분은)\n",
    "# 보통 사람들은 for 문을 이용해 원소를 하나씩 이어 붙입니다.\n",
    "my_list = ['1', '100', '33']\n",
    "answer = ''\n",
    "for value in my_list:\n",
    "    answer += value\n",
    "    \n",
    "# 파이썬의 str.join(iterable)을 사용하면 이 코드를 두 줄로 줄일 수 있습니다 .\n",
    "my_list = ['1', '100', '33']\n",
    "answer = ''.join(my_list)"
   ]
  },
  {
   "cell_type": "code",
   "execution_count": null,
   "id": "30328225-4793-42c9-a160-64b0a528dbce",
   "metadata": {},
   "outputs": [],
   "source": []
  }
 ],
 "metadata": {
  "kernelspec": {
   "display_name": "Python 3",
   "language": "python",
   "name": "python3"
  },
  "language_info": {
   "codemirror_mode": {
    "name": "ipython",
    "version": 3
   },
   "file_extension": ".py",
   "mimetype": "text/x-python",
   "name": "python",
   "nbconvert_exporter": "python",
   "pygments_lexer": "ipython3",
   "version": "3.8.8"
  }
 },
 "nbformat": 4,
 "nbformat_minor": 5
}
