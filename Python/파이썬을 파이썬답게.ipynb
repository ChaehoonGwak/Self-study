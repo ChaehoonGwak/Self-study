{
 "cells": [
  {
   "cell_type": "markdown",
   "id": "e8d6f70f-7031-4beb-9bfa-789f125602a1",
   "metadata": {},
   "source": [
    "# 파이썬을 파이썬답게"
   ]
  },
  {
   "cell_type": "raw",
   "id": "35d0303d-414c-4506-8a57-e9617c7deeba",
   "metadata": {},
   "source": [
    "정수를 담은 이차원 리스트, mylist 가 solution 함수의 파라미터로 주어집니다. mylist에 들은 각 원소의 길이를 담은 리스트를 리턴하도록 solution 함수를 작성해주세요.\n",
    "\n",
    "제한 조건\n",
    "mylist의 길이는 100 이하인 자연수입니다.\n",
    "mylist 각 원소의 길이는 100 이하인 자연수입니다."
   ]
  },
  {
   "cell_type": "code",
   "execution_count": 22,
   "id": "0cdf0983-a619-454b-848e-402f5e26b94f",
   "metadata": {},
   "outputs": [],
   "source": [
    "def solution(mylist):\n",
    "    answer = []\n",
    "    for i in mylist:\n",
    "        answer.append(len(i))\n",
    "    return answer"
   ]
  },
  {
   "cell_type": "code",
   "execution_count": 23,
   "id": "fa80250b-9ae9-46bd-9812-459135ad8d52",
   "metadata": {},
   "outputs": [],
   "source": [
    "def solution(mylist):\n",
    "    return list(map(len, mylist))"
   ]
  },
  {
   "cell_type": "raw",
   "id": "76190306-348d-4ab4-b195-429781d4490e",
   "metadata": {},
   "source": [
    "iterable: 자신의 멤버를 한 번에 하나씩 리턴할 수 있는 객체입니다. list, str, tuple, dict 등이 여기에 속합니다.\n",
    "sequence: int 타입 인덱스를 통해, 원소에 접근할 수 있는 iterable 입니다. iterable의 하위 카테고리라고 생각하시면 됩니다. \n",
    "list, str, tuple이 여기 속합니다. ( dictionary는 다양한 타입을 통해 원소에 접근할 수 있기 때문에 sequence에 속하지 않습니다."
   ]
  },
  {
   "cell_type": "code",
   "execution_count": null,
   "id": "ea8f013f-37f0-485e-8431-752978c10546",
   "metadata": {},
   "outputs": [],
   "source": []
  },
  {
   "cell_type": "markdown",
   "id": "d2a9ce78-6e33-49f0-9664-dca85b43681c",
   "metadata": {},
   "source": [
    "# 몫과 나머지"
   ]
  },
  {
   "cell_type": "raw",
   "id": "84b333b1-d4f3-4d0f-b53a-16bb9d17c868",
   "metadata": {},
   "source": [
    "문제 설명\n",
    "숫자 a, b가 주어졌을 때 a를 b로 나눈 몫과 a를 b로 나눈 나머지를 공백으로 구분해 출력해보세요.\n",
    "\n",
    "입력 설명\n",
    "입력으로는 공백으로 구분된 숫자가 두 개 주어집니다.\n",
    "첫 번째 숫자는 a를 나타내며, 두 번째 숫자는 b를 나타냅니다.\n",
    "\n",
    "출력 설명\n",
    "a를 b로 나눈 몫과 a를 b로 나눈 나머지를 공백으로 구분해 출력하세요.\n",
    "\n",
    "제한 조건\n",
    "a와 b는 자연수입니다"
   ]
  },
  {
   "cell_type": "code",
   "execution_count": 26,
   "id": "99d4f13e-d415-4ee4-9c9d-0c56c0965e75",
   "metadata": {},
   "outputs": [
    {
     "name": "stdin",
     "output_type": "stream",
     "text": [
      " 5 3\n"
     ]
    },
    {
     "name": "stdout",
     "output_type": "stream",
     "text": [
      "1 2\n"
     ]
    }
   ],
   "source": [
    "a, b = map(int, input().strip().split(' '))\n",
    "print(a//b, a%b)"
   ]
  },
  {
   "cell_type": "code",
   "execution_count": 27,
   "id": "252a0718-2d68-4ec6-9604-ca2b2fb738bc",
   "metadata": {},
   "outputs": [
    {
     "name": "stdout",
     "output_type": "stream",
     "text": [
      "1 2\n"
     ]
    }
   ],
   "source": [
    "a = 7\n",
    "b = 5\n",
    "print(*divmod(a, b))"
   ]
  },
  {
   "cell_type": "raw",
   "id": "f89fbdec-852c-4916-a49d-8bc23b3b47eb",
   "metadata": {},
   "source": [
    "가독성이나, 팀의 코드 스타일에 따라서, a//b, a%b와 같이 쓸 때가 더 좋을 수도 있습니다.\n",
    "또한, divmod는 작은 숫자를 다룰 때는 a//b, a%b 보다 느립니다. 대신, 큰 숫자를 다룰 때는 전자가 후자보다 더 빠르지요."
   ]
  },
  {
   "cell_type": "code",
   "execution_count": null,
   "id": "3e9b5fce-7bed-49aa-9e41-1362174a412f",
   "metadata": {},
   "outputs": [],
   "source": []
  },
  {
   "cell_type": "markdown",
   "id": "67b4caf3-ea38-46d5-9be8-3cca1e1cd04b",
   "metadata": {},
   "source": [
    "# n진법으로 표기된 string을 10진법 숫자로 변환하기"
   ]
  },
  {
   "cell_type": "raw",
   "id": "28d3e1c1-f8d0-4d3b-b14f-ac824de173c1",
   "metadata": {},
   "source": [
    "\n",
    "문제 설명\n",
    "base 진법으로 표기된 숫자를 10진법 숫자 출력해보세요.\n",
    "\n",
    "입력 설명\n",
    "입력으로는 공백으로 구분된 숫자가 두 개 주어집니다.\n",
    "첫 번째 숫자는 num을 나타내며, 두 번째 숫자는 base를 나타냅니다.\n",
    "\n",
    "출력 설명\n",
    "base 진법으로 표기된 num을 10진법 숫자로 출력해보세요.\n",
    "\n",
    "제한 조건\n",
    "base는 10 이하인 자연수입니다.\n",
    "num은 3000 이하인 자연수입니다."
   ]
  },
  {
   "cell_type": "code",
   "execution_count": null,
   "id": "b6f1852d-c00b-4809-85ef-9e1a50ca0bbc",
   "metadata": {},
   "outputs": [],
   "source": []
  },
  {
   "cell_type": "code",
   "execution_count": 29,
   "id": "86fe652c-9ea5-43bb-ade0-b22b9035a79b",
   "metadata": {},
   "outputs": [
    {
     "name": "stdin",
     "output_type": "stream",
     "text": [
      " 1 3\n"
     ]
    },
    {
     "name": "stdout",
     "output_type": "stream",
     "text": [
      "1\n"
     ]
    }
   ],
   "source": [
    "num, base = map(int, input().strip().split(' '))\n",
    "\n",
    "res = 0\n",
    "n = str(num)\n",
    "b = 1\n",
    "\n",
    "for i in n[::-1]:\n",
    "    res += int(i)*b\n",
    "    b *= base\n",
    "\n",
    "print(res)"
   ]
  },
  {
   "cell_type": "code",
   "execution_count": 30,
   "id": "e1a0a5a3-0612-40e4-838c-d2cee65d7f86",
   "metadata": {},
   "outputs": [
    {
     "name": "stdout",
     "output_type": "stream",
     "text": [
      "432\n"
     ]
    }
   ],
   "source": [
    "num = '3212'\n",
    "base = 5\n",
    "answer = int(num, base)\n",
    "print(answer)"
   ]
  },
  {
   "cell_type": "code",
   "execution_count": null,
   "id": "b4c94a14-14b8-49ac-8d56-dee66acc8168",
   "metadata": {},
   "outputs": [],
   "source": []
  },
  {
   "cell_type": "markdown",
   "id": "39b403ed-3c1f-407b-9956-ab15d6a3191d",
   "metadata": {},
   "source": [
    "# 문자열 정렬하기"
   ]
  },
  {
   "cell_type": "raw",
   "id": "62ae19e1-292c-497d-bc28-cef1036141c1",
   "metadata": {},
   "source": [
    "문제 설명\n",
    "문자열 s와 자연수 n이 입력으로 주어집니다. 문자열 s를 좌측 / 가운데 / 우측 정렬한 길이 n인 문자열을 한 줄씩 프린트해보세요.\n",
    "\n",
    "제한조건\n",
    "s의 길이는 n보다 작습니다.\n",
    "(n - s의 길이)는 짝수입니다.\n",
    "s는 알파벳과 숫자로만 이루어져 있으며, 공백 문자가 포함되어있지 않습니다."
   ]
  },
  {
   "cell_type": "code",
   "execution_count": 31,
   "id": "e112fee0-a41a-450a-8c37-92f9855dd743",
   "metadata": {},
   "outputs": [
    {
     "name": "stdin",
     "output_type": "stream",
     "text": [
      " abc 7\n"
     ]
    },
    {
     "name": "stdout",
     "output_type": "stream",
     "text": [
      "abc\n",
      "  abc    \n",
      "    abc\n"
     ]
    }
   ],
   "source": [
    "s, n = input().strip().split(' ')\n",
    "n = int(n)\n",
    "\n",
    "slen = len(s)\n",
    "\n",
    "print(s)\n",
    "\n",
    "mid_s = ''\n",
    "for i in range(n):\n",
    "    if i < (n-slen)/2:\n",
    "        mid_s += ' '\n",
    "    elif i == (n-slen)/2:\n",
    "        mid_s += s\n",
    "    else: mid_s += ' '\n",
    "\n",
    "print(mid_s)\n",
    "\n",
    "last_s = ''\n",
    "for i in range(n):\n",
    "    if i < n-slen:\n",
    "        last_s += ' '\n",
    "    else: last_s += s; break\n",
    "\n",
    "print(last_s)"
   ]
  },
  {
   "cell_type": "code",
   "execution_count": 32,
   "id": "a36579ef-1661-4101-8096-c8444c7b33ef",
   "metadata": {},
   "outputs": [
    {
     "data": {
      "text/plain": [
       "'   가나다라'"
      ]
     },
     "execution_count": 32,
     "metadata": {},
     "output_type": "execute_result"
    }
   ],
   "source": [
    "s = '가나다라'\n",
    "n = 7\n",
    "\n",
    "s.ljust(n) # 좌측 정렬\n",
    "s.center(n) # 가운데 정렬\n",
    "s.rjust(n) # 우측 정렬"
   ]
  },
  {
   "cell_type": "code",
   "execution_count": null,
   "id": "4a642f50-a4d2-49a9-b559-0b37460935a4",
   "metadata": {},
   "outputs": [],
   "source": []
  }
 ],
 "metadata": {
  "kernelspec": {
   "display_name": "Python 3",
   "language": "python",
   "name": "python3"
  },
  "language_info": {
   "codemirror_mode": {
    "name": "ipython",
    "version": 3
   },
   "file_extension": ".py",
   "mimetype": "text/x-python",
   "name": "python",
   "nbconvert_exporter": "python",
   "pygments_lexer": "ipython3",
   "version": "3.8.8"
  }
 },
 "nbformat": 4,
 "nbformat_minor": 5
}
